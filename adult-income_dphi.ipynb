{
 "cells": [
  {
   "cell_type": "markdown",
   "id": "126364a3-cadc-47f5-99c2-800452822038",
   "metadata": {},
   "source": [
    "# Mitigating Bias with the XAI Toolbox\n",
    "## **Exercise**: _Interpreting & Improving Fairness metrics_\n",
    "### Workshop for DPhi Live Sessions — scheduled for December 4th, 2021 2:30 PM CET\n",
    "### by Serg Masís ([LinkedIn](https://www.linkedin.com/in/smasis/), [Twitter](https://twitter.com/smasis), [Serg.ai](https://www.serg.ai/), [Github](https://github.com/smasis001), [Amazon](https://www.amazon.com/kindle-dbs/entity/author/B08PQ8P9BS?_encoding=UTF8&node=283155&offset=0&pageSize=12&searchAlias=stripbooks&sort=author-sidecar-rank&page=1&langFilter=default#formatSelectorHeader) ) "
   ]
  },
  {
   "cell_type": "markdown",
   "id": "ebe88e9a-f192-4d3c-b98a-dc51e0a35e5c",
   "metadata": {},
   "source": [
    "> ### EXCLUSIVE LIMITED-TIME OFFER\n",
    "> This notebook demonstrates several of the methods in the book \"Interpretable Machine Learning with Python\".\n",
    "> You can get it with a discount on Amazon UK only for a limited time:\n",
    ">\n",
    "> - **Edition**: Printed Edition Only (pre-order)\n",
    "> - **Start Date**: 6th December 2021\n",
    "> - **End Date**: 19th Dcemeber 2021\n",
    "> - **Discount**: 25%\n",
    "> - **Link**: https://packt.link/h4dGd"
   ]
  },
  {
   "cell_type": "markdown",
   "id": "7dec317d-543b-4f28-bb55-5e9d5b64c052",
   "metadata": {
    "tags": []
   },
   "source": [
    "## 1) Install Libraries\n",
    "#### _(if not installed already)_"
   ]
  },
  {
   "cell_type": "markdown",
   "id": "0360e720-a252-472b-bfa6-e80b8995f56e",
   "metadata": {},
   "source": [
    "Only if not Google Colab because google colab has these preinstalled:"
   ]
  },
  {
   "cell_type": "code",
   "execution_count": null,
   "id": "7295e8e6-56c2-430f-ac87-3998c48f2d41",
   "metadata": {},
   "outputs": [],
   "source": [
    "!pip install --upgrade pandas numpy scikit-learn matplotlib seaborn tensorflow"
   ]
  },
  {
   "cell_type": "markdown",
   "id": "97f619d9-7443-4cc3-928d-bf78287f7239",
   "metadata": {},
   "source": [
    "Always installed unless installed already:"
   ]
  },
  {
   "cell_type": "code",
   "execution_count": null,
   "id": "018a1450-854b-4403-b9f4-6d6f5c24ac04",
   "metadata": {},
   "outputs": [],
   "source": [
    "#NOTE: It will show an error in Colab for xai 0.0.5. It will work regardless. \n",
    "# XAI doesn't really need exact versions of 6 different libraries to work.\n",
    "!pip install --upgrade --quiet catboost\n",
    "!pip install --no-deps git+https://github.com/EthicalML/xai.git\n",
    "!pip install aif360==0.4.0 fairlearn"
   ]
  },
  {
   "cell_type": "markdown",
   "id": "8c201ac5-0b1a-4e37-a9d0-8ac354219d83",
   "metadata": {
    "tags": []
   },
   "source": [
    "## 2) Load Libraries"
   ]
  },
  {
   "cell_type": "code",
   "execution_count": 1,
   "id": "a0928574-2b52-4d69-a44b-e36cb0d00bc0",
   "metadata": {},
   "outputs": [],
   "source": [
    "%matplotlib inline\n",
    "import math\n",
    "import os, sys\n",
    "import warnings\n",
    "warnings.filterwarnings(\"ignore\")\n",
    "\n",
    "#DATA WRANGLING\n",
    "import numpy as np\n",
    "import pandas as pd\n",
    "from sklearn.model_selection import train_test_split\n",
    "from sklearn.compose import make_column_transformer\n",
    "from sklearn.preprocessing import OneHotEncoder\n",
    "from aif360.sklearn.datasets import fetch_adult\n",
    "\n",
    "#MODELING\n",
    "from sklearn.model_selection import GridSearchCV\n",
    "from sklearn.linear_model import LogisticRegression\n",
    "import catboost as cb\n",
    "import tensorflow.compat.v1 as tf\n",
    "tf.disable_eager_execution()\n",
    "tf.logging.set_verbosity(tf.logging.ERROR)\n",
    "\n",
    "#VISUALIZATION\n",
    "import matplotlib.pyplot as plt\n",
    "import seaborn as sns\n",
    "\n",
    "#FAIRNESS\n",
    "import xai\n",
    "from aif360.sklearn.metrics import statistical_parity_difference, disparate_impact_ratio,\\\n",
    "                                   generalized_fpr, generalized_fnr\n",
    "from aif360.sklearn.preprocessing import ReweighingMeta\n",
    "from aif360.sklearn.inprocessing import AdversarialDebiasing\n",
    "from aif360.sklearn.postprocessing import CalibratedEqualizedOdds, PostProcessingMeta\n",
    "\n",
    "#INTERPRETATION\n",
    "from sklearn import metrics\n",
    "from IPython.display import Markdown, display\n",
    "import matplotlib.pyplot as plt\n",
    "import seaborn as sns"
   ]
  },
  {
   "cell_type": "markdown",
   "id": "1eeea1d7-771c-4600-a77b-0dc3150ca8a6",
   "metadata": {
    "tags": []
   },
   "source": [
    "## 3) Data Understanding"
   ]
  },
  {
   "cell_type": "markdown",
   "id": "8cc17a54-8efd-4d96-bd0f-170345c0a5b4",
   "metadata": {},
   "source": [
    "### 3.1) Load Dataset"
   ]
  },
  {
   "cell_type": "code",
   "execution_count": 2,
   "id": "502cf3f4-557b-4b53-9855-ca2ad5364b2a",
   "metadata": {},
   "outputs": [],
   "source": [
    "X, y, _ = fetch_adult()"
   ]
  },
  {
   "cell_type": "markdown",
   "id": "112dce4e-2d3d-4d7d-9da5-ae49e23e6735",
   "metadata": {},
   "source": [
    "### 3.2) Inspect Dataset"
   ]
  },
  {
   "cell_type": "markdown",
   "id": "19e74f91-e85a-4f4d-ae56-54fcf1e6cb6f",
   "metadata": {},
   "source": [
    "Inspect first rows for `X`:"
   ]
  },
  {
   "cell_type": "code",
   "execution_count": 3,
   "id": "1ca00297-fdb2-4b8a-b550-36f4f7bb6795",
   "metadata": {},
   "outputs": [
    {
     "data": {
      "text/html": [
       "<div>\n",
       "<style scoped>\n",
       "    .dataframe tbody tr th:only-of-type {\n",
       "        vertical-align: middle;\n",
       "    }\n",
       "\n",
       "    .dataframe tbody tr th {\n",
       "        vertical-align: top;\n",
       "    }\n",
       "\n",
       "    .dataframe thead th {\n",
       "        text-align: right;\n",
       "    }\n",
       "</style>\n",
       "<table border=\"1\" class=\"dataframe\">\n",
       "  <thead>\n",
       "    <tr style=\"text-align: right;\">\n",
       "      <th></th>\n",
       "      <th></th>\n",
       "      <th></th>\n",
       "      <th>age</th>\n",
       "      <th>workclass</th>\n",
       "      <th>education</th>\n",
       "      <th>education-num</th>\n",
       "      <th>marital-status</th>\n",
       "      <th>occupation</th>\n",
       "      <th>relationship</th>\n",
       "      <th>race</th>\n",
       "      <th>sex</th>\n",
       "      <th>capital-gain</th>\n",
       "      <th>capital-loss</th>\n",
       "      <th>hours-per-week</th>\n",
       "      <th>native-country</th>\n",
       "    </tr>\n",
       "    <tr>\n",
       "      <th></th>\n",
       "      <th>race</th>\n",
       "      <th>sex</th>\n",
       "      <th></th>\n",
       "      <th></th>\n",
       "      <th></th>\n",
       "      <th></th>\n",
       "      <th></th>\n",
       "      <th></th>\n",
       "      <th></th>\n",
       "      <th></th>\n",
       "      <th></th>\n",
       "      <th></th>\n",
       "      <th></th>\n",
       "      <th></th>\n",
       "      <th></th>\n",
       "    </tr>\n",
       "  </thead>\n",
       "  <tbody>\n",
       "    <tr>\n",
       "      <th>0</th>\n",
       "      <th>Non-white</th>\n",
       "      <th>Male</th>\n",
       "      <td>25.0</td>\n",
       "      <td>Private</td>\n",
       "      <td>11th</td>\n",
       "      <td>7.0</td>\n",
       "      <td>Never-married</td>\n",
       "      <td>Machine-op-inspct</td>\n",
       "      <td>Own-child</td>\n",
       "      <td>Non-white</td>\n",
       "      <td>Male</td>\n",
       "      <td>0.0</td>\n",
       "      <td>0.0</td>\n",
       "      <td>40.0</td>\n",
       "      <td>United-States</td>\n",
       "    </tr>\n",
       "    <tr>\n",
       "      <th>1</th>\n",
       "      <th>White</th>\n",
       "      <th>Male</th>\n",
       "      <td>38.0</td>\n",
       "      <td>Private</td>\n",
       "      <td>HS-grad</td>\n",
       "      <td>9.0</td>\n",
       "      <td>Married-civ-spouse</td>\n",
       "      <td>Farming-fishing</td>\n",
       "      <td>Husband</td>\n",
       "      <td>White</td>\n",
       "      <td>Male</td>\n",
       "      <td>0.0</td>\n",
       "      <td>0.0</td>\n",
       "      <td>50.0</td>\n",
       "      <td>United-States</td>\n",
       "    </tr>\n",
       "    <tr>\n",
       "      <th>2</th>\n",
       "      <th>White</th>\n",
       "      <th>Male</th>\n",
       "      <td>28.0</td>\n",
       "      <td>Local-gov</td>\n",
       "      <td>Assoc-acdm</td>\n",
       "      <td>12.0</td>\n",
       "      <td>Married-civ-spouse</td>\n",
       "      <td>Protective-serv</td>\n",
       "      <td>Husband</td>\n",
       "      <td>White</td>\n",
       "      <td>Male</td>\n",
       "      <td>0.0</td>\n",
       "      <td>0.0</td>\n",
       "      <td>40.0</td>\n",
       "      <td>United-States</td>\n",
       "    </tr>\n",
       "    <tr>\n",
       "      <th>3</th>\n",
       "      <th>Non-white</th>\n",
       "      <th>Male</th>\n",
       "      <td>44.0</td>\n",
       "      <td>Private</td>\n",
       "      <td>Some-college</td>\n",
       "      <td>10.0</td>\n",
       "      <td>Married-civ-spouse</td>\n",
       "      <td>Machine-op-inspct</td>\n",
       "      <td>Husband</td>\n",
       "      <td>Non-white</td>\n",
       "      <td>Male</td>\n",
       "      <td>7688.0</td>\n",
       "      <td>0.0</td>\n",
       "      <td>40.0</td>\n",
       "      <td>United-States</td>\n",
       "    </tr>\n",
       "    <tr>\n",
       "      <th>5</th>\n",
       "      <th>White</th>\n",
       "      <th>Male</th>\n",
       "      <td>34.0</td>\n",
       "      <td>Private</td>\n",
       "      <td>10th</td>\n",
       "      <td>6.0</td>\n",
       "      <td>Never-married</td>\n",
       "      <td>Other-service</td>\n",
       "      <td>Not-in-family</td>\n",
       "      <td>White</td>\n",
       "      <td>Male</td>\n",
       "      <td>0.0</td>\n",
       "      <td>0.0</td>\n",
       "      <td>30.0</td>\n",
       "      <td>United-States</td>\n",
       "    </tr>\n",
       "  </tbody>\n",
       "</table>\n",
       "</div>"
      ],
      "text/plain": [
       "                   age  workclass     education  education-num  \\\n",
       "  race      sex                                                  \n",
       "0 Non-white Male  25.0    Private          11th            7.0   \n",
       "1 White     Male  38.0    Private       HS-grad            9.0   \n",
       "2 White     Male  28.0  Local-gov    Assoc-acdm           12.0   \n",
       "3 Non-white Male  44.0    Private  Some-college           10.0   \n",
       "5 White     Male  34.0    Private          10th            6.0   \n",
       "\n",
       "                      marital-status         occupation   relationship  \\\n",
       "  race      sex                                                          \n",
       "0 Non-white Male       Never-married  Machine-op-inspct      Own-child   \n",
       "1 White     Male  Married-civ-spouse    Farming-fishing        Husband   \n",
       "2 White     Male  Married-civ-spouse    Protective-serv        Husband   \n",
       "3 Non-white Male  Married-civ-spouse  Machine-op-inspct        Husband   \n",
       "5 White     Male       Never-married      Other-service  Not-in-family   \n",
       "\n",
       "                       race   sex  capital-gain  capital-loss  hours-per-week  \\\n",
       "  race      sex                                                                 \n",
       "0 Non-white Male  Non-white  Male           0.0           0.0            40.0   \n",
       "1 White     Male      White  Male           0.0           0.0            50.0   \n",
       "2 White     Male      White  Male           0.0           0.0            40.0   \n",
       "3 Non-white Male  Non-white  Male        7688.0           0.0            40.0   \n",
       "5 White     Male      White  Male           0.0           0.0            30.0   \n",
       "\n",
       "                 native-country  \n",
       "  race      sex                  \n",
       "0 Non-white Male  United-States  \n",
       "1 White     Male  United-States  \n",
       "2 White     Male  United-States  \n",
       "3 Non-white Male  United-States  \n",
       "5 White     Male  United-States  "
      ]
     },
     "execution_count": 3,
     "metadata": {},
     "output_type": "execute_result"
    }
   ],
   "source": [
    "X.head()"
   ]
  },
  {
   "cell_type": "markdown",
   "id": "ca579abb-df3e-4bde-8196-c087a92192e6",
   "metadata": {},
   "source": [
    "and for `y`:"
   ]
  },
  {
   "cell_type": "code",
   "execution_count": 4,
   "id": "e7d828ee-c562-4f0b-b0ca-df642ed2e50b",
   "metadata": {},
   "outputs": [
    {
     "data": {
      "text/plain": [
       "   race       sex \n",
       "0  Non-white  Male    <=50K\n",
       "1  White      Male    <=50K\n",
       "2  White      Male     >50K\n",
       "3  Non-white  Male     >50K\n",
       "5  White      Male    <=50K\n",
       "Name: annual-income, dtype: category\n",
       "Categories (2, object): ['<=50K' < '>50K']"
      ]
     },
     "execution_count": 4,
     "metadata": {},
     "output_type": "execute_result"
    }
   ],
   "source": [
    "y.head()"
   ]
  },
  {
   "cell_type": "markdown",
   "id": "82099455-5435-4027-ab76-edafac9350b9",
   "metadata": {},
   "source": [
    "### 3.3) Check Imbalanced"
   ]
  },
  {
   "cell_type": "markdown",
   "id": "87541718-4fb7-49f5-979c-988bd4b694de",
   "metadata": {},
   "source": [
    "It's an imbalanced dataset since about 25% belongs to the positive class:"
   ]
  },
  {
   "cell_type": "code",
   "execution_count": 5,
   "id": "27965830-61ba-4186-b58f-5243f3961b26",
   "metadata": {},
   "outputs": [
    {
     "data": {
      "text/plain": [
       "0.2478439697492371"
      ]
     },
     "execution_count": 5,
     "metadata": {},
     "output_type": "execute_result"
    }
   ],
   "source": [
    "len(y[y=='>50K'])/len(y)"
   ]
  },
  {
   "cell_type": "markdown",
   "id": "72e6c713-6a35-43dc-8492-d075b2382974",
   "metadata": {},
   "source": [
    "but let's see how this is distributed across both genders by creating a simple dataframe..."
   ]
  },
  {
   "cell_type": "code",
   "execution_count": 6,
   "id": "dcdb7c5e-94c4-47ba-bd78-b3d4d7ec197b",
   "metadata": {},
   "outputs": [
    {
     "data": {
      "text/html": [
       "<div>\n",
       "<style scoped>\n",
       "    .dataframe tbody tr th:only-of-type {\n",
       "        vertical-align: middle;\n",
       "    }\n",
       "\n",
       "    .dataframe tbody tr th {\n",
       "        vertical-align: top;\n",
       "    }\n",
       "\n",
       "    .dataframe thead th {\n",
       "        text-align: right;\n",
       "    }\n",
       "</style>\n",
       "<table border=\"1\" class=\"dataframe\">\n",
       "  <thead>\n",
       "    <tr style=\"text-align: right;\">\n",
       "      <th></th>\n",
       "      <th>sex</th>\n",
       "      <th>annual-income</th>\n",
       "    </tr>\n",
       "  </thead>\n",
       "  <tbody>\n",
       "    <tr>\n",
       "      <th>0</th>\n",
       "      <td>Male</td>\n",
       "      <td>&lt;=50K</td>\n",
       "    </tr>\n",
       "    <tr>\n",
       "      <th>1</th>\n",
       "      <td>Male</td>\n",
       "      <td>&lt;=50K</td>\n",
       "    </tr>\n",
       "    <tr>\n",
       "      <th>2</th>\n",
       "      <td>Male</td>\n",
       "      <td>&gt;50K</td>\n",
       "    </tr>\n",
       "    <tr>\n",
       "      <th>3</th>\n",
       "      <td>Male</td>\n",
       "      <td>&gt;50K</td>\n",
       "    </tr>\n",
       "    <tr>\n",
       "      <th>4</th>\n",
       "      <td>Male</td>\n",
       "      <td>&lt;=50K</td>\n",
       "    </tr>\n",
       "  </tbody>\n",
       "</table>\n",
       "</div>"
      ],
      "text/plain": [
       "    sex annual-income\n",
       "0  Male         <=50K\n",
       "1  Male         <=50K\n",
       "2  Male          >50K\n",
       "3  Male          >50K\n",
       "4  Male         <=50K"
      ]
     },
     "execution_count": 6,
     "metadata": {},
     "output_type": "execute_result"
    }
   ],
   "source": [
    "y_by_sex_df = y.to_frame().reset_index().drop(['level_0','race'], axis=1)\n",
    "y_by_sex_df.head(5)"
   ]
  },
  {
   "cell_type": "markdown",
   "id": "a8fa297b-4a41-477e-9f9b-8d90ffcaeeab",
   "metadata": {},
   "source": [
    "..and then grouping by and dividing:"
   ]
  },
  {
   "cell_type": "code",
   "execution_count": 7,
   "id": "11f43170-aa9e-4f00-b2d9-50cd776e36c1",
   "metadata": {},
   "outputs": [
    {
     "data": {
      "text/plain": [
       "sex     annual-income\n",
       "Female  <=50K            0.886424\n",
       "        >50K             0.113576\n",
       "Male    <=50K            0.687523\n",
       "        >50K             0.312477\n",
       "dtype: float64"
      ]
     },
     "execution_count": 7,
     "metadata": {},
     "output_type": "execute_result"
    }
   ],
   "source": [
    "y_by_sex_df.groupby(['sex','annual-income']).size()/y_by_sex_df.groupby(['sex']).size()"
   ]
  },
  {
   "cell_type": "markdown",
   "id": "dc08869e-5cc6-4db7-9cea-4cd762634fa1",
   "metadata": {},
   "source": [
    "Income distribution is very uneven among both genders. An easier way to visualize this imbalance is with an `imbalance_plot`:"
   ]
  },
  {
   "cell_type": "code",
   "execution_count": 8,
   "id": "674e4fcd-a17b-4095-8370-741a7b62eddc",
   "metadata": {},
   "outputs": [
    {
     "data": {
      "image/png": "[encoded data removed]",
      "text/plain": [
       "<Figure size 432x288 with 1 Axes>"
      ]
     },
     "metadata": {},
     "output_type": "display_data"
    }
   ],
   "source": [
    "sns.set_style(\"darkgrid\")\n",
    "xai.imbalance_plot(y_by_sex_df, \"sex\", \"annual-income\",\\\n",
    "                   categorical_cols=[\"sex\", \"annual-income\"])"
   ]
  },
  {
   "cell_type": "markdown",
   "id": "b5d22261-766d-4a85-a504-f9595b273ace",
   "metadata": {},
   "source": [
    "### 3.4) Some Data Preparation Steps"
   ]
  },
  {
   "cell_type": "markdown",
   "id": "f766ce14-1a62-486a-9912-7f3a297d4980",
   "metadata": {},
   "source": [
    "First let's join `X` and `y` before we transform them:"
   ]
  },
  {
   "cell_type": "code",
   "execution_count": 9,
   "id": "bade6e60-df67-43e5-b596-d2f5bfaa2cac",
   "metadata": {},
   "outputs": [],
   "source": [
    "all_df = X.join(y.to_frame().rename(columns={0:'annual-income'}))"
   ]
  },
  {
   "cell_type": "markdown",
   "id": "b62c599d-ec81-480a-909a-b3534a04a3c6",
   "metadata": {},
   "source": [
    "Then we are to encode the indexes for `X` and `y`:"
   ]
  },
  {
   "cell_type": "code",
   "execution_count": 10,
   "id": "b9cb3fac-cfb0-4700-a2d3-bcbc5c20bf0c",
   "metadata": {},
   "outputs": [],
   "source": [
    "X.index = pd.MultiIndex.from_arrays(X.index.codes, names=X.index.names)\n",
    "y.index = pd.MultiIndex.from_arrays(y.index.codes, names=y.index.names)\n",
    "y = pd.Series(y.factorize(sort=True)[0], index=y.index)"
   ]
  },
  {
   "cell_type": "markdown",
   "id": "2326a615-e42b-4246-a070-c57ccc8ce9b4",
   "metadata": {},
   "source": [
    "Define a seed for reproducibility:"
   ]
  },
  {
   "cell_type": "code",
   "execution_count": 11,
   "id": "c1c22486-5011-466e-9e3f-dc3073a7e9cb",
   "metadata": {},
   "outputs": [],
   "source": [
    "rand = 42\n",
    "os.environ['PYTHONHASHSEED']=str(rand)\n",
    "np.random.seed(rand)"
   ]
  },
  {
   "cell_type": "markdown",
   "id": "7c31c8d6-ddb9-4bdd-9f61-6e115afa023b",
   "metadata": {},
   "source": [
    "and test/train split:"
   ]
  },
  {
   "cell_type": "code",
   "execution_count": 12,
   "id": "6680f5df-e7ca-4ed0-a5a1-e97f69a0692d",
   "metadata": {},
   "outputs": [],
   "source": [
    "X_train, X_test, y_train, y_test = train_test_split(X, y, train_size=0.7, random_state=rand)"
   ]
  },
  {
   "cell_type": "markdown",
   "id": "0c30a7de-b2ad-4c64-8083-6d1d843625f8",
   "metadata": {},
   "source": [
    "Before we one hot encode our features let's save the originals for `test` and `train`:"
   ]
  },
  {
   "cell_type": "code",
   "execution_count": 13,
   "id": "51ed4a34-92f2-4269-808d-8e7a21327443",
   "metadata": {},
   "outputs": [],
   "source": [
    "train_idxs = X_train.index.get_level_values(0).tolist()\n",
    "train_df = all_df[all_df.index.get_level_values(0).isin(train_idxs)]\n",
    "test_df = all_df[~all_df.index.get_level_values(0).isin(train_idxs)]"
   ]
  },
  {
   "cell_type": "markdown",
   "id": "f6c473d5-31f2-43bd-b7ab-f22f2dd66f55",
   "metadata": {},
   "source": [
    "and then one hot encode:"
   ]
  },
  {
   "cell_type": "code",
   "execution_count": 14,
   "id": "cbd6539e-adc4-48da-bc33-5d8d0bc36bff",
   "metadata": {},
   "outputs": [
    {
     "data": {
      "text/html": [
       "<div>\n",
       "<style scoped>\n",
       "    .dataframe tbody tr th:only-of-type {\n",
       "        vertical-align: middle;\n",
       "    }\n",
       "\n",
       "    .dataframe tbody tr th {\n",
       "        vertical-align: top;\n",
       "    }\n",
       "\n",
       "    .dataframe thead th {\n",
       "        text-align: right;\n",
       "    }\n",
       "</style>\n",
       "<table border=\"1\" class=\"dataframe\">\n",
       "  <thead>\n",
       "    <tr style=\"text-align: right;\">\n",
       "      <th></th>\n",
       "      <th></th>\n",
       "      <th></th>\n",
       "      <th>0</th>\n",
       "      <th>1</th>\n",
       "      <th>2</th>\n",
       "      <th>3</th>\n",
       "      <th>4</th>\n",
       "      <th>5</th>\n",
       "      <th>6</th>\n",
       "      <th>7</th>\n",
       "      <th>8</th>\n",
       "      <th>9</th>\n",
       "      <th>...</th>\n",
       "      <th>90</th>\n",
       "      <th>91</th>\n",
       "      <th>92</th>\n",
       "      <th>93</th>\n",
       "      <th>94</th>\n",
       "      <th>95</th>\n",
       "      <th>96</th>\n",
       "      <th>97</th>\n",
       "      <th>98</th>\n",
       "      <th>99</th>\n",
       "    </tr>\n",
       "    <tr>\n",
       "      <th></th>\n",
       "      <th>race</th>\n",
       "      <th>sex</th>\n",
       "      <th></th>\n",
       "      <th></th>\n",
       "      <th></th>\n",
       "      <th></th>\n",
       "      <th></th>\n",
       "      <th></th>\n",
       "      <th></th>\n",
       "      <th></th>\n",
       "      <th></th>\n",
       "      <th></th>\n",
       "      <th></th>\n",
       "      <th></th>\n",
       "      <th></th>\n",
       "      <th></th>\n",
       "      <th></th>\n",
       "      <th></th>\n",
       "      <th></th>\n",
       "      <th></th>\n",
       "      <th></th>\n",
       "      <th></th>\n",
       "      <th></th>\n",
       "    </tr>\n",
       "  </thead>\n",
       "  <tbody>\n",
       "    <tr>\n",
       "      <th>28065</th>\n",
       "      <th>1</th>\n",
       "      <th>1</th>\n",
       "      <td>0.0</td>\n",
       "      <td>0.0</td>\n",
       "      <td>0.0</td>\n",
       "      <td>0.0</td>\n",
       "      <td>0.0</td>\n",
       "      <td>1.0</td>\n",
       "      <td>0.0</td>\n",
       "      <td>0.0</td>\n",
       "      <td>0.0</td>\n",
       "      <td>0.0</td>\n",
       "      <td>...</td>\n",
       "      <td>0.0</td>\n",
       "      <td>0.0</td>\n",
       "      <td>1.0</td>\n",
       "      <td>0.0</td>\n",
       "      <td>0.0</td>\n",
       "      <td>38.0</td>\n",
       "      <td>14.0</td>\n",
       "      <td>7298.0</td>\n",
       "      <td>0.0</td>\n",
       "      <td>60.0</td>\n",
       "    </tr>\n",
       "    <tr>\n",
       "      <th>43124</th>\n",
       "      <th>1</th>\n",
       "      <th>1</th>\n",
       "      <td>0.0</td>\n",
       "      <td>0.0</td>\n",
       "      <td>1.0</td>\n",
       "      <td>0.0</td>\n",
       "      <td>0.0</td>\n",
       "      <td>0.0</td>\n",
       "      <td>0.0</td>\n",
       "      <td>0.0</td>\n",
       "      <td>0.0</td>\n",
       "      <td>0.0</td>\n",
       "      <td>...</td>\n",
       "      <td>0.0</td>\n",
       "      <td>0.0</td>\n",
       "      <td>1.0</td>\n",
       "      <td>0.0</td>\n",
       "      <td>0.0</td>\n",
       "      <td>47.0</td>\n",
       "      <td>9.0</td>\n",
       "      <td>0.0</td>\n",
       "      <td>1977.0</td>\n",
       "      <td>45.0</td>\n",
       "    </tr>\n",
       "    <tr>\n",
       "      <th>41428</th>\n",
       "      <th>1</th>\n",
       "      <th>1</th>\n",
       "      <td>0.0</td>\n",
       "      <td>0.0</td>\n",
       "      <td>1.0</td>\n",
       "      <td>0.0</td>\n",
       "      <td>0.0</td>\n",
       "      <td>0.0</td>\n",
       "      <td>0.0</td>\n",
       "      <td>0.0</td>\n",
       "      <td>0.0</td>\n",
       "      <td>0.0</td>\n",
       "      <td>...</td>\n",
       "      <td>0.0</td>\n",
       "      <td>0.0</td>\n",
       "      <td>1.0</td>\n",
       "      <td>0.0</td>\n",
       "      <td>0.0</td>\n",
       "      <td>43.0</td>\n",
       "      <td>13.0</td>\n",
       "      <td>0.0</td>\n",
       "      <td>0.0</td>\n",
       "      <td>50.0</td>\n",
       "    </tr>\n",
       "    <tr>\n",
       "      <th>12494</th>\n",
       "      <th>0</th>\n",
       "      <th>1</th>\n",
       "      <td>0.0</td>\n",
       "      <td>0.0</td>\n",
       "      <td>1.0</td>\n",
       "      <td>0.0</td>\n",
       "      <td>0.0</td>\n",
       "      <td>0.0</td>\n",
       "      <td>0.0</td>\n",
       "      <td>0.0</td>\n",
       "      <td>0.0</td>\n",
       "      <td>0.0</td>\n",
       "      <td>...</td>\n",
       "      <td>0.0</td>\n",
       "      <td>0.0</td>\n",
       "      <td>0.0</td>\n",
       "      <td>0.0</td>\n",
       "      <td>0.0</td>\n",
       "      <td>42.0</td>\n",
       "      <td>16.0</td>\n",
       "      <td>0.0</td>\n",
       "      <td>0.0</td>\n",
       "      <td>40.0</td>\n",
       "    </tr>\n",
       "    <tr>\n",
       "      <th>7756</th>\n",
       "      <th>1</th>\n",
       "      <th>0</th>\n",
       "      <td>0.0</td>\n",
       "      <td>0.0</td>\n",
       "      <td>1.0</td>\n",
       "      <td>0.0</td>\n",
       "      <td>0.0</td>\n",
       "      <td>0.0</td>\n",
       "      <td>0.0</td>\n",
       "      <td>0.0</td>\n",
       "      <td>0.0</td>\n",
       "      <td>0.0</td>\n",
       "      <td>...</td>\n",
       "      <td>0.0</td>\n",
       "      <td>0.0</td>\n",
       "      <td>1.0</td>\n",
       "      <td>0.0</td>\n",
       "      <td>0.0</td>\n",
       "      <td>26.0</td>\n",
       "      <td>9.0</td>\n",
       "      <td>0.0</td>\n",
       "      <td>0.0</td>\n",
       "      <td>40.0</td>\n",
       "    </tr>\n",
       "  </tbody>\n",
       "</table>\n",
       "<p>5 rows × 100 columns</p>\n",
       "</div>"
      ],
      "text/plain": [
       "                 0    1    2    3    4    5    6    7    8    9   ...   90  \\\n",
       "      race sex                                                    ...        \n",
       "28065 1    1    0.0  0.0  0.0  0.0  0.0  1.0  0.0  0.0  0.0  0.0  ...  0.0   \n",
       "43124 1    1    0.0  0.0  1.0  0.0  0.0  0.0  0.0  0.0  0.0  0.0  ...  0.0   \n",
       "41428 1    1    0.0  0.0  1.0  0.0  0.0  0.0  0.0  0.0  0.0  0.0  ...  0.0   \n",
       "12494 0    1    0.0  0.0  1.0  0.0  0.0  0.0  0.0  0.0  0.0  0.0  ...  0.0   \n",
       "7756  1    0    0.0  0.0  1.0  0.0  0.0  0.0  0.0  0.0  0.0  0.0  ...  0.0   \n",
       "\n",
       "                 91   92   93   94    95    96      97      98    99  \n",
       "      race sex                                                        \n",
       "28065 1    1    0.0  1.0  0.0  0.0  38.0  14.0  7298.0     0.0  60.0  \n",
       "43124 1    1    0.0  1.0  0.0  0.0  47.0   9.0     0.0  1977.0  45.0  \n",
       "41428 1    1    0.0  1.0  0.0  0.0  43.0  13.0     0.0     0.0  50.0  \n",
       "12494 0    1    0.0  0.0  0.0  0.0  42.0  16.0     0.0     0.0  40.0  \n",
       "7756  1    0    0.0  1.0  0.0  0.0  26.0   9.0     0.0     0.0  40.0  \n",
       "\n",
       "[5 rows x 100 columns]"
      ]
     },
     "execution_count": 14,
     "metadata": {},
     "output_type": "execute_result"
    }
   ],
   "source": [
    "ohe = make_column_transformer(\n",
    "        (OneHotEncoder(sparse=False), X_train.dtypes == 'category'),\n",
    "        remainder='passthrough')\n",
    "X_train  = pd.DataFrame(ohe.fit_transform(X_train), index=X_train.index)\n",
    "X_test = pd.DataFrame(ohe.transform(X_test), index=X_test.index)\n",
    "\n",
    "X_train.head()"
   ]
  },
  {
   "cell_type": "markdown",
   "id": "4ae590e9-e6b8-49f9-beef-2a1d5adc6381",
   "metadata": {},
   "source": [
    "### 3.5) Quantifying Dataset Bias"
   ]
  },
  {
   "cell_type": "markdown",
   "id": "e24cf7f7-6d26-40ef-b86b-42b5773e559b",
   "metadata": {},
   "source": [
    "It's easy to compute fairness metrics in a training dataset. All you need is the label:"
   ]
  },
  {
   "cell_type": "code",
   "execution_count": 15,
   "id": "8882ad86-509f-43f9-9670-37f17d13ee4d",
   "metadata": {},
   "outputs": [
    {
     "name": "stdout",
     "output_type": "stream",
     "text": [
      "Statistical Parity Difference (SPD):\t\t\t-0.2001\n",
      "Disparate Impact (DI):\t\t\t\t\t0.3637\n"
     ]
    }
   ],
   "source": [
    "print('Statistical Parity Difference (SPD):\\t\\t\\t%.4f' %\\\n",
    "      statistical_parity_difference(y_train, prot_attr='sex'))\n",
    "print('Disparate Impact (DI):\\t\\t\\t\\t\\t%.4f' %\\\n",
    "      disparate_impact_ratio(y_train, prot_attr='sex'))"
   ]
  },
  {
   "cell_type": "markdown",
   "id": "01c69d8e-52c0-41f8-9563-38924f303fd4",
   "metadata": {},
   "source": [
    "Now, let's explain what each metric means:"
   ]
  },
  {
   "cell_type": "markdown",
   "id": "8da92ddd-8662-4848-a159-c8d28ba27a14",
   "metadata": {},
   "source": [
    "- **Statistical Parity Difference** (**SPD**): also know as the **Mean Difference** is the difference between the mean probability of favorable outcomes between underpriviledged and priviledged groups. A negative number is bad and a positive number is better yet a number closer to zero is always preferable. It's computed with the following formula where $f$ is the value for the favorable class.\n",
    "\n",
    "$Pr(Y = f | D = \\text{unprivileged})\n",
    "           - Pr(Y = f | D = \\text{privileged})$\n",
    "  \n",
    "- **Disparate Impact** (**DI**)): Disparate impact is exactly like _Statistical Parity Difference_ except it's the ratio not the difference. And as ratios go, the closer to one the better and under one would mean disadvantage and over one means advantage.\n",
    "\n",
    "$\\frac{Pr(Y = f | D = \\text{unprivileged})}\n",
    "           {Pr(Y = f | D = \\text{privileged})}$"
   ]
  },
  {
   "cell_type": "markdown",
   "id": "2059556f-174b-4020-9f91-218de67e9ce6",
   "metadata": {},
   "source": [
    "## 4) Modeling & Evaluation"
   ]
  },
  {
   "cell_type": "markdown",
   "id": "fde620fa-6a37-425d-8c5c-fca8f920f5fb",
   "metadata": {},
   "source": [
    "### 4.1) Define Utility Functions"
   ]
  },
  {
   "cell_type": "code",
   "execution_count": 19,
   "id": "f4c653f6-6106-439d-97c3-cc1006f57cc8",
   "metadata": {},
   "outputs": [],
   "source": [
    "def evaluate_class_mdl(fitted_model, X_train, X_test, y_train, y_test, plot=True, pct=True, thresh=0.5):\n",
    "    y_train_pred = fitted_model.predict(X_train).squeeze()\n",
    "    if len(np.unique(y_train_pred)) > 2:\n",
    "        y_train_pred = np.where(y_train_pred > thresh, 1, 0)\n",
    "        y_test_prob = fitted_model.predict(X_test).squeeze()\n",
    "        y_test_pred = np.where(y_test_prob > thresh, 1, 0)\n",
    "    else:   \n",
    "        y_test_prob = fitted_model.predict_proba(X_test)[:,1]\n",
    "        y_test_pred = np.where(y_test_prob > thresh, 1, 0)\n",
    "    roc_auc = metrics.roc_auc_score(y_test, y_test_prob)\n",
    "    if plot:\n",
    "        plt.figure(figsize = (12,12))\n",
    "        plt.tick_params(axis = 'both', which = 'major', labelsize = 12)\n",
    "        fpr, tpr, _ = metrics.roc_curve(y_test, y_test_prob)\n",
    "        plt.plot(fpr, tpr, label='ROC curve (area = %0.2f)' % roc_auc)\n",
    "        plt.plot([0, 1], [0, 1], 'k--')  # coin toss line\n",
    "        plt.xlabel('False Positive Rate', fontsize = 14)\n",
    "        plt.ylabel('True Positive Rate', fontsize = 14)\n",
    "        plt.xlim([0.0, 1.0])\n",
    "        plt.ylim([0.0, 1.0])\n",
    "        plt.legend(loc=\"lower right\")\n",
    "        plt.show()\n",
    "    print('Accuracy_train:  %.4f\\t\\tAccuracy_test:   %.4f' %\\\n",
    "                        (metrics.accuracy_score(y_train, y_train_pred),\\\n",
    "                         metrics.accuracy_score(y_test, y_test_pred)))\n",
    "    print('Precision_test:  %.4f\\t\\tRecall_test:     %.4f' %\\\n",
    "                        (metrics.precision_score(y_test, y_test_pred),\\\n",
    "                         metrics.recall_score(y_test, y_test_pred)))\n",
    "    print('ROC-AUC_test:    %.4f\\t\\tF1_test:         %.4f\\t\\tMCC_test: %.4f' %\\\n",
    "                        (roc_auc,\\\n",
    "                         metrics.f1_score(y_test, y_test_pred),\\\n",
    "                         metrics.matthews_corrcoef(y_test, y_test_pred)))\n",
    "    cf_matrix = metrics.confusion_matrix(y_test,\\\n",
    "                                         y_test_pred)\n",
    "    if plot:\n",
    "        plt.figure(figsize=(6, 5))\n",
    "        if pct:\n",
    "            sns.heatmap(cf_matrix/np.sum(cf_matrix), annot=True,\\\n",
    "                        fmt='.2%', cmap='Blues', annot_kws={'size':16})\n",
    "        else:\n",
    "            sns.heatmap(cf_matrix, annot=True,\\\n",
    "                        fmt='d',cmap='Blues', annot_kws={'size':16})\n",
    "        plt.show()\n",
    "    return y_train_pred, y_test_prob, y_test_pred\n",
    "\n",
    "def compare_confusion_matrices(y_true_1, y_pred_1, y_true_2, y_pred_2, group_1, group_2,\\\n",
    "                               plot=True, compare_fpr=False):\n",
    "    \"\"\"Compare two confusion matrices and display FPR ratio metrics. \n",
    "    Return FPR ratio between matrices.\n",
    "    \n",
    "    Keyword arguments:\n",
    "    y_true_1 -- ground truth values for first confusion matrix (pandas series or 1D array)\n",
    "    y_pred_1 -- predictions for first confusion matrix  (pandas series or 1D array)\n",
    "    y_true_2 -- ground truth values for second confusion matrix (pandas series or 1D array)\n",
    "    y_pred_2 -- predictions for second confusion matrix  (pandas series or 1D array)\n",
    "    group_1 -- name of group represented by first matrix (string)\n",
    "    group_2 -- name of group represented by second matrix (string)\n",
    "    plot -- whether to plot the confusion matrices or not (boolean)\n",
    "    \"\"\"\n",
    "    \n",
    "    #Create confusion matrices for two different groups.\n",
    "    conf_matrix_1 = metrics.confusion_matrix(y_true_1, y_pred_1)\n",
    "    conf_matrix_2 = metrics.confusion_matrix(y_true_2, y_pred_2)\n",
    "\n",
    "    #Plot both confusion matrices side-by-side.\n",
    "    if plot:\n",
    "        fig, ax = plt.subplots(1,2,figsize=(12,5))\n",
    "        sns.heatmap(conf_matrix_1/np.sum(conf_matrix_1), annot=True,\\\n",
    "                    fmt='.2%', cmap='Blues', annot_kws={'size':16}, ax=ax[0])\n",
    "        ax[0].set_title(group_1 + ' Confusion Matrix', fontsize=14)\n",
    "        sns.heatmap(conf_matrix_2/np.sum(conf_matrix_2), annot=True,\\\n",
    "                    fmt='.2%', cmap='Blues', annot_kws={'size':16}, ax=ax[1])\n",
    "        ax[1].set_title(group_2 + ' Confusion Matrix', fontsize=14)\n",
    "        plt.show()\n",
    "\n",
    "    #Calculate False Positive Rates (FPR) for each Group.\n",
    "    tn, fp, fn, tp = conf_matrix_1.ravel()\n",
    "    fpr_1 = fp/(fp+tn)\n",
    "    fnr_1 = fn/(fn+tp)\n",
    "    tn, fp, fn, tp = conf_matrix_2.ravel()\n",
    "    fpr_2 = fp/(fp+tn)\n",
    "    fnr_2 = fn/(fn+tp)\n",
    "\n",
    "    #Print the FPRs and the ratio between them.\n",
    "    if compare_fpr:\n",
    "        if fpr_2 > fpr_1:\n",
    "            print(\"\\t\" + group_2 + \" FPR:\\t%.1f%%\" % (fpr_2*100))\n",
    "            print(\"\\t\" + group_1 + \" FPR:\\t\\t%.1f%%\" % (fpr_1*100))\n",
    "            print(\"\\tRatio FPRs:\\t\\t%.2f x\" % (fpr_2/fpr_1))\n",
    "            return (fpr_2/fpr_1)\n",
    "        else:\n",
    "            print(\"\\t\" + group_1 + \" FPR:\\t%.1f%%\" % (fpr_1*100))\n",
    "            print(\"\\t\" + group_2 + \" FPR:\\t\\t%.1f%%\" % (fpr_2*100))\n",
    "            print(\"\\tRatio FPRs:\\t\\t%.2f x\" % (fpr_1/fpr_2))\n",
    "            return (fpr_1/fpr_2)\n",
    "    else:\n",
    "        if fnr_2 > fnr_1:\n",
    "            print(\"\\t\" + group_2 + \" FNR:\\t%.1f%%\" % (fnr_2*100))\n",
    "            print(\"\\t\" + group_1 + \" FNR:\\t\\t%.1f%%\" % (fnr_1*100))\n",
    "            print(\"\\tRatio FNRs:\\t\\t%.2f x\" % (fnr_2/fnr_1))\n",
    "            return (fnr_2/fnr_1)\n",
    "        else:\n",
    "            print(\"\\t\" + group_1 + \" FNR:\\t%.1f%%\" % (fnr_1*100))\n",
    "            print(\"\\t\" + group_2 + \" FNR:\\t\\t%.1f%%\" % (fnr_2*100))\n",
    "            print(\"\\tRatio FNRs:\\t\\t%.2f x\" % (fnr_1/fnr_2))\n",
    "            return (fnr_1/fnr_2)"
   ]
  },
  {
   "cell_type": "markdown",
   "id": "05eeb918-68e1-40c4-88a1-dfc01e1ec8d9",
   "metadata": {},
   "source": [
    "### 4.2) Train & Evaluate Base Models"
   ]
  },
  {
   "cell_type": "markdown",
   "id": "885d20b2-ab70-4f91-9c02-fb42a6de78b0",
   "metadata": {},
   "source": [
    "#### 4.2.1) Logistic Regression"
   ]
  },
  {
   "cell_type": "code",
   "execution_count": 20,
   "id": "2ed77692-552c-4afc-a013-e22c9d91cb76",
   "metadata": {},
   "outputs": [
    {
     "data": {
      "image/png": "[encoded data removed]",
      "text/plain": [
       "<Figure size 864x864 with 1 Axes>"
      ]
     },
     "metadata": {},
     "output_type": "display_data"
    },
    {
     "name": "stdout",
     "output_type": "stream",
     "text": [
      "Accuracy_train:  0.8374\t\tAccuracy_test:   0.8420\n",
      "Precision_test:  0.7258\t\tRecall_test:     0.5716\n",
      "ROC-AUC_test:    0.8822\t\tF1_test:         0.6395\t\tMCC_test: 0.5465\n"
     ]
    },
    {
     "data": {
      "image/png": "[encoded data removed]",
      "text/plain": [
       "<Figure size 432x360 with 2 Axes>"
      ]
     },
     "metadata": {},
     "output_type": "display_data"
    }
   ],
   "source": [
    "lr_mdl = LogisticRegression(solver='lbfgs').fit(X_train, y_train)\n",
    "\n",
    "y_train_lr_pred, y_test_lr_prob, y_test_lr_pred =\\\n",
    "                                        evaluate_class_mdl(lr_mdl, X_train, X_test, y_train, y_test)"
   ]
  },
  {
   "cell_type": "markdown",
   "id": "b455583b-fbd0-4ab8-9fdd-24e50216b5bc",
   "metadata": {},
   "source": [
    "#### 4.2.2) CatBoost Classifier"
   ]
  },
  {
   "cell_type": "code",
   "execution_count": 21,
   "id": "679f08be-3c4b-4628-bab9-cb82fba2dc63",
   "metadata": {
    "tags": []
   },
   "outputs": [
    {
     "data": {
      "image/png": "[encoded data removed]",
      "text/plain": [
       "<Figure size 864x864 with 1 Axes>"
      ]
     },
     "metadata": {},
     "output_type": "display_data"
    },
    {
     "name": "stdout",
     "output_type": "stream",
     "text": [
      "Accuracy_train:  0.8886\t\tAccuracy_test:   0.8739\n",
      "Precision_test:  0.7935\t\tRecall_test:     0.6563\n",
      "ROC-AUC_test:    0.9288\t\tF1_test:         0.7184\t\tMCC_test: 0.6429\n"
     ]
    },
    {
     "data": {
      "image/png": "[encoded data removed]",
      "text/plain": [
       "<Figure size 432x360 with 2 Axes>"
      ]
     },
     "metadata": {},
     "output_type": "display_data"
    }
   ],
   "source": [
    "cb_mdl = cb.CatBoostClassifier(verbose=0,\\\n",
    "                                random_state=rand).fit(X_train, y_train) #, scale_pos_weight=0.95\n",
    "\n",
    "y_train_cb_pred, y_test_cb_prob, y_test_cb_pred =\\\n",
    "                                        evaluate_class_mdl(cb_mdl, X_train, X_test, y_train, y_test)"
   ]
  },
  {
   "cell_type": "markdown",
   "id": "083db092-7c4e-4bfa-ba80-26c9bcfa7594",
   "metadata": {},
   "source": [
    "### 4.3) Visualize/Detect Model Bias"
   ]
  },
  {
   "cell_type": "markdown",
   "id": "f590c8c2-1164-4747-b012-81913c6c309b",
   "metadata": {},
   "source": [
    "There are many ways to do this but for a binary classifier the easiest way to do this is by comparing confusion matrices side by side."
   ]
  },
  {
   "cell_type": "markdown",
   "id": "03c0a45f-314b-423d-8287-b0ab08b1d6e0",
   "metadata": {},
   "source": [
    "To do this, first let's get a boolean series for male so we can subset our labels and predictions by whether they are for a male or a female:"
   ]
  },
  {
   "cell_type": "code",
   "execution_count": 22,
   "id": "b1176a6b-baeb-4608-88b0-3f543012437b",
   "metadata": {},
   "outputs": [],
   "source": [
    "is_male = y_test.index.get_level_values('sex') == 1"
   ]
  },
  {
   "cell_type": "markdown",
   "id": "38adf4d7-f697-4aad-9a26-5629c54cca23",
   "metadata": {},
   "source": [
    "Then we use our plotting function to compare the confusion matrices for male and female for the Logistic Regression model:"
   ]
  },
  {
   "cell_type": "code",
   "execution_count": 23,
   "id": "dbe1fbff-6e3d-4e93-8da3-75a8e5263a98",
   "metadata": {},
   "outputs": [
    {
     "data": {
      "image/png": "[encoded data removed]",
      "text/plain": [
       "<Figure size 864x360 with 4 Axes>"
      ]
     },
     "metadata": {},
     "output_type": "display_data"
    },
    {
     "name": "stdout",
     "output_type": "stream",
     "text": [
      "\tFemale FNR:\t52.9%\n",
      "\tMale FNR:\t\t41.1%\n",
      "\tRatio FNRs:\t\t1.29 x\n"
     ]
    }
   ],
   "source": [
    "_ = compare_confusion_matrices(y_test[is_male], y_test_lr_pred[is_male],\\\n",
    "                               y_test[~is_male], y_test_lr_pred[~is_male], 'Male', 'Female',\\\n",
    "                               compare_fpr=False)"
   ]
  },
  {
   "cell_type": "markdown",
   "id": "4d53e9d8-4965-43dc-8408-013ebdd48156",
   "metadata": {},
   "source": [
    "Now, we can do the same for Catboost:"
   ]
  },
  {
   "cell_type": "code",
   "execution_count": 24,
   "id": "6a4039bf-8a2d-4807-9fd6-b795404a5f64",
   "metadata": {},
   "outputs": [
    {
     "data": {
      "image/png": "[encoded data removed]",
      "text/plain": [
       "<Figure size 864x360 with 4 Axes>"
      ]
     },
     "metadata": {},
     "output_type": "display_data"
    },
    {
     "name": "stdout",
     "output_type": "stream",
     "text": [
      "\tFemale FNR:\t38.6%\n",
      "\tMale FNR:\t\t33.6%\n",
      "\tRatio FNRs:\t\t1.15 x\n"
     ]
    }
   ],
   "source": [
    "_ = compare_confusion_matrices(y_test[is_male], y_test_cb_pred[is_male],\\\n",
    "                               y_test[~is_male], y_test_cb_pred[~is_male], 'Male', 'Female',\\\n",
    "                               compare_fpr=False)"
   ]
  },
  {
   "cell_type": "markdown",
   "id": "b89f10c1-c907-4f29-9588-5bc8e38d961c",
   "metadata": {},
   "source": [
    "As you can see both compute the false negative rate (FNR) for male and female and then the ratio between these both to determine how much more likely one is to get false negatives over the other."
   ]
  },
  {
   "cell_type": "markdown",
   "id": "728ab295-c2f9-4337-8dfc-448957b7daa6",
   "metadata": {},
   "source": [
    "False negative rate is computed like this:\n",
    "\n",
    "$\\text{FNR} = \\large{\\frac{\\text{FN}}{\\text{FN} + \\text{TP}}}$"
   ]
  },
  {
   "cell_type": "markdown",
   "id": "d905b406-21eb-416c-87d4-3387093b3d2a",
   "metadata": {},
   "source": [
    "### 4.4) Quantifying Model Bias"
   ]
  },
  {
   "cell_type": "markdown",
   "id": "932355ef-5614-4a46-a7c1-781721bb7dc0",
   "metadata": {},
   "source": [
    "It's done in `AIF360` exactly the same way as with dataset bias except you add the predicted labels as well. Here we have it for Logistic regression:"
   ]
  },
  {
   "cell_type": "code",
   "execution_count": 33,
   "id": "b190577c-f7d3-4697-ad11-77f2f33b0785",
   "metadata": {},
   "outputs": [
    {
     "name": "stdout",
     "output_type": "stream",
     "text": [
      "Statistical Parity Difference (SPD):\t\t\t-0.1850\n",
      "Disparate Impact (DI):\t\t\t\t\t0.2663\n"
     ]
    }
   ],
   "source": [
    "print('Statistical Parity Difference (SPD):\\t\\t\\t%.4f' %\\\n",
    "      statistical_parity_difference(y_test, y_test_lr_pred, prot_attr='sex'))\n",
    "print('Disparate Impact (DI):\\t\\t\\t\\t\\t%.4f' %\\\n",
    "      disparate_impact_ratio(y_test, y_test_lr_pred, prot_attr='sex'))"
   ]
  },
  {
   "cell_type": "markdown",
   "id": "72b663dc-45c9-4ba8-a1fb-44c0d176e348",
   "metadata": {},
   "source": [
    "...and this is for Catboost:"
   ]
  },
  {
   "cell_type": "code",
   "execution_count": 34,
   "id": "388708fb-f6cd-45bc-b4de-7e8c7edbbbab",
   "metadata": {},
   "outputs": [
    {
     "name": "stdout",
     "output_type": "stream",
     "text": [
      "Statistical Parity Difference (SPD):\t\t\t-0.1718\n",
      "Disparate Impact (DI):\t\t\t\t\t0.3331\n"
     ]
    }
   ],
   "source": [
    "print('Statistical Parity Difference (SPD):\\t\\t\\t%.4f' %\\\n",
    "      statistical_parity_difference(y_test, y_test_cb_pred, prot_attr='sex'))\n",
    "print('Disparate Impact (DI):\\t\\t\\t\\t\\t%.4f' %\\\n",
    "      disparate_impact_ratio(y_test, y_test_cb_pred, prot_attr='sex'))"
   ]
  },
  {
   "cell_type": "markdown",
   "id": "ea471ec7-61b5-4293-b65f-0e558f715b6a",
   "metadata": {},
   "source": [
    "You can tell Disparate Impact is worse than it was with the dataset. This is expect since models tend to amplify dataset biases."
   ]
  },
  {
   "cell_type": "markdown",
   "id": "4be1ab64-f2b1-4ec3-9ecf-062f74435f4d",
   "metadata": {},
   "source": [
    "## 5) Mitigating Bias"
   ]
  },
  {
   "cell_type": "markdown",
   "id": "f3a636f4-d52c-4c2e-8b98-9198b10efea7",
   "metadata": {},
   "source": [
    "### 5.1) via Pre-Processing method"
   ]
  },
  {
   "cell_type": "markdown",
   "id": "89e6c274-a37e-43ee-b2be-eb431e1aabfd",
   "metadata": {},
   "source": [
    "**Preprocessing**: These are interventions to detect and remove bias from the training data before training the model. Methods that leverage preprocessing have the advantage that they tackle bias at the source. On the other hand, any undetected bias is still amplified by the model."
   ]
  },
  {
   "cell_type": "markdown",
   "id": "86a729b1-80a3-4f10-b10f-14dc453bc597",
   "metadata": {},
   "source": [
    "**Reweighing**: Much like class weights are applied to each class, sample weights are applied to each observation or sample. Many regressors and classifiers, CatBoostClassifier included, support sample weights. Even though technically, reweighting doesn't touch the data and solution applied to the model, it is a preprocessing method because we detected bias in the data."
   ]
  },
  {
   "cell_type": "markdown",
   "id": "3c44dd88-14d2-4dc3-9c3c-5c329f406d5a",
   "metadata": {},
   "source": [
    "Since it could take a longer while with our best classifier, we will reweight for Logistic regression in a grid search and then evaluate:"
   ]
  },
  {
   "cell_type": "code",
   "execution_count": 35,
   "id": "cf9c3a39-aa6e-4ea7-a7b3-a37cccdd23ec",
   "metadata": {},
   "outputs": [
    {
     "name": "stdout",
     "output_type": "stream",
     "text": [
      "Accuracy_train:  0.8324\t\tAccuracy_test:   0.8359\n",
      "Precision_test:  0.7325\t\tRecall_test:     0.5210\n",
      "ROC-AUC_test:    0.8734\t\tF1_test:         0.6089\t\tMCC_test: 0.5206\n",
      "CPU times: user 31 s, sys: 7.92 s, total: 38.9 s\n",
      "Wall time: 5.09 s\n"
     ]
    }
   ],
   "source": [
    "%%time\n",
    "rw = ReweighingMeta(estimator=LogisticRegression(solver='lbfgs'))\n",
    "\n",
    "params = {'estimator__C': [1,10], 'reweigher__prot_attr': ['sex']}\n",
    "\n",
    "lr_rw_mdl = GridSearchCV(rw, params, scoring='accuracy', cv=5)\n",
    "lr_rw_mdl = lr_rw_mdl.fit(X_train, y_train)\n",
    "\n",
    "y_train_lr_rw_pred, y_test_lr_rw_prob, y_test_lr_rw_pred =\\\n",
    "                                        evaluate_class_mdl(lr_rw_mdl, X_train, X_test, y_train, y_test,\\\n",
    "                                                           plot=False)"
   ]
  },
  {
   "cell_type": "markdown",
   "id": "10a9a3ea-2a18-4507-89d5-f998a20a3765",
   "metadata": {},
   "source": [
    "The reweighting has impacted performance slightly but improved the fairness metrics:"
   ]
  },
  {
   "cell_type": "code",
   "execution_count": 36,
   "id": "2eb6f77c-7aee-42a5-b1ba-d3a2f2352efc",
   "metadata": {},
   "outputs": [
    {
     "name": "stdout",
     "output_type": "stream",
     "text": [
      "Statistical Parity Difference (SPD):\t\t\t-0.1200\n",
      "Disparate Impact (DI):\t\t\t\t\t0.4361\n"
     ]
    }
   ],
   "source": [
    "print('Statistical Parity Difference (SPD):\\t\\t\\t%.4f' %\\\n",
    "      statistical_parity_difference(y_test, y_test_lr_rw_pred, prot_attr='sex'))\n",
    "print('Disparate Impact (DI):\\t\\t\\t\\t\\t%.4f' %\\\n",
    "      disparate_impact_ratio(y_test, y_test_lr_rw_pred, prot_attr='sex'))"
   ]
  },
  {
   "cell_type": "markdown",
   "id": "f1e5a9b3-9906-4144-a79d-092887761679",
   "metadata": {},
   "source": [
    "It works but assigning different weights to each observation:"
   ]
  },
  {
   "cell_type": "code",
   "execution_count": 37,
   "id": "0c00897b-4bb9-4a23-ae90-62bfd34edb7b",
   "metadata": {},
   "outputs": [],
   "source": [
    "_, sample_weight = rw.reweigher.fit_transform(X_train, y_train)"
   ]
  },
  {
   "cell_type": "markdown",
   "id": "b1bc5419-e106-464d-a071-112462676e33",
   "metadata": {},
   "source": [
    "As you see here they all vary:"
   ]
  },
  {
   "cell_type": "code",
   "execution_count": 38,
   "id": "3e6b2f7d-5690-4369-aa8d-0d866d7fda20",
   "metadata": {},
   "outputs": [
    {
     "data": {
      "text/plain": [
       "array([0.7660164 , 0.7660164 , 0.7660164 , ..., 1.11268671, 0.856608  ,\n",
       "       1.11268671])"
      ]
     },
     "execution_count": 38,
     "metadata": {},
     "output_type": "execute_result"
    }
   ],
   "source": [
    "sample_weight"
   ]
  },
  {
   "cell_type": "markdown",
   "id": "2aa17070-53f3-4cf0-8ccd-5dd787ab68b0",
   "metadata": {},
   "source": [
    "You would think that adding weights to observations would greatly impact predictive performance. However, this method was designed to maintain balance. In an unweighted dataset, all observations have a weight of one, and therefore the average of all the weights is one. While reweighting changes the weights for observations, the mean is still approximately one:"
   ]
  },
  {
   "cell_type": "code",
   "execution_count": 39,
   "id": "27b87e40-366f-465c-b8ee-7a1795aba404",
   "metadata": {},
   "outputs": [
    {
     "data": {
      "text/plain": [
       "0.9999999999999998"
      ]
     },
     "execution_count": 39,
     "metadata": {},
     "output_type": "execute_result"
    }
   ],
   "source": [
    "np.mean(sample_weight)"
   ]
  },
  {
   "cell_type": "markdown",
   "id": "0d839f02-9af4-43a0-861b-e1a9807ec1d3",
   "metadata": {},
   "source": [
    "### 5.2) via In-Processing method"
   ]
  },
  {
   "cell_type": "markdown",
   "id": "d3bac314-7888-4a4a-8c2c-bf370af4e9c8",
   "metadata": {},
   "source": [
    "**In-processing**: These methods mitigate bias during the model training and are, therefore, highly dependent on the model and tend to not be model-agnostic like the preprocessing and post-processing methods. They also require hyperparameter tuning to calibrate fairness metrics."
   ]
  },
  {
   "cell_type": "markdown",
   "id": "4d8db83d-f052-4811-910e-e561dcd19d17",
   "metadata": {},
   "source": [
    "**Adversarial debiasing**: It leverages two opposing actors, but this time it's with two neural networks: a predictor and an adversary. We maximize the predictor's ability to predict the target while minimizing the adversary's ability to predict the protected feature, thus increasing equality of odds between privileged and underprivileged groups."
   ]
  },
  {
   "cell_type": "markdown",
   "id": "ea4b8792-387b-4a86-b6da-d56fa98fed7e",
   "metadata": {},
   "source": [
    "This method leverages neural networks so once we fit and evaluate the model we will close the `tensorflow` session:"
   ]
  },
  {
   "cell_type": "code",
   "execution_count": 40,
   "id": "e2fb1702-ad53-4f8b-8cdf-079a746daf97",
   "metadata": {},
   "outputs": [
    {
     "name": "stderr",
     "output_type": "stream",
     "text": [
      "2021-12-03 22:44:48.333058: I tensorflow/core/platform/cpu_feature_guard.cc:151] This TensorFlow binary is optimized with oneAPI Deep Neural Network Library (oneDNN) to use the following CPU instructions in performance-critical operations:  AVX2 FMA\n",
      "To enable them in other operations, rebuild TensorFlow with the appropriate compiler flags.\n"
     ]
    },
    {
     "name": "stdout",
     "output_type": "stream",
     "text": [
      "Accuracy_train:  0.8339\t\tAccuracy_test:   0.8315\n",
      "Precision_test:  0.6667\t\tRecall_test:     0.6254\n",
      "ROC-AUC_test:    0.8871\t\tF1_test:         0.6454\t\tMCC_test: 0.5355\n"
     ]
    }
   ],
   "source": [
    "adv_deb_mdl = AdversarialDebiasing(prot_attr='sex', random_state=rand)\n",
    "adv_deb_mdl = adv_deb_mdl.fit(X_train, y_train)\n",
    "y_train_adv_deb_pred, y_test_adv_deb_prob, y_test_adv_deb_pred =\\\n",
    "                                        evaluate_class_mdl(adv_deb_mdl, X_train, X_test, y_train, y_test,\\\n",
    "                                                           plot=False)\n",
    "adv_deb_mdl.sess_.close()"
   ]
  },
  {
   "cell_type": "markdown",
   "id": "2f89705f-9a66-4856-847f-17c55e82e164",
   "metadata": {},
   "source": [
    "Then, evaluate it as we have before:"
   ]
  },
  {
   "cell_type": "code",
   "execution_count": 41,
   "id": "65de2e90-11b5-464c-b531-922bacccaefe",
   "metadata": {},
   "outputs": [
    {
     "name": "stdout",
     "output_type": "stream",
     "text": [
      "Statistical Parity Difference (SPD):\t\t\t-0.1121\n",
      "Disparate Impact (DI):\t\t\t\t\t0.5782\n"
     ]
    }
   ],
   "source": [
    "print('Statistical Parity Difference (SPD):\\t\\t\\t%.4f' %\\\n",
    "      statistical_parity_difference(y_test, y_test_adv_deb_pred, prot_attr='sex'))\n",
    "print('Disparate Impact (DI):\\t\\t\\t\\t\\t%.4f' %\\\n",
    "      disparate_impact_ratio(y_test, y_test_adv_deb_pred, prot_attr='sex'))"
   ]
  },
  {
   "cell_type": "markdown",
   "id": "f7e1fb90-57ef-4e4a-b48c-8a5d789fda6e",
   "metadata": {},
   "source": [
    "### 5.3) via Post-Processing method\n",
    "#### (combined with pre-processing)"
   ]
  },
  {
   "cell_type": "markdown",
   "id": "79e071c1-3a49-42ce-8bc3-40a62813036c",
   "metadata": {},
   "source": [
    "**Post-processing**: These methods mitigate bias during model inference. Post-processing methods aim to detect and correct fairness directly in the outcomes, but what adjustments to make will depend on which metrics matter most to your problem. They have the advantage that they can tackle outcome unfairness where it can have the greatest impact, but since it's disconnected from the rest of the model development, it can distort things."
   ]
  },
  {
   "cell_type": "markdown",
   "id": "f8b00dad-4211-4dd0-8b34-b3e07ee407a1",
   "metadata": {},
   "source": [
    "**Calibrated equalized odds postprocessing**: Instead of changing the labels, this method modifies the probability estimates so that they are on average equal. It calls this calibration. However, this constraint cannot be satisfied for false-positives and false-negatives concurrently, so you are forced to prefer one over the other. Therefore, it is advantageous in cases where recall is far more important than precision or vice-versa, and there are benefits to calibrating the\n",
    "estimated probabilities."
   ]
  },
  {
   "cell_type": "code",
   "execution_count": 42,
   "id": "f7d6d740-f409-40bf-885b-c9f9fbe5edcf",
   "metadata": {},
   "outputs": [
    {
     "name": "stdout",
     "output_type": "stream",
     "text": [
      "Accuracy_train:  0.8757\t\tAccuracy_test:   0.8637\n",
      "Precision_test:  0.8063\t\tRecall_test:     0.5845\n",
      "ROC-AUC_test:    0.9099\t\tF1_test:         0.6777\t\tMCC_test: 0.6064\n"
     ]
    }
   ],
   "source": [
    "cal_eq_odds = CalibratedEqualizedOdds('sex', cost_constraint='fnr', random_state=rand)\n",
    "cb_pp_mdl = PostProcessingMeta(estimator=cb.CatBoostClassifier(verbose=0, random_state=rand),\\\n",
    "                               postprocessor=cal_eq_odds, random_state=rand)\n",
    "cb_pp_mdl = cb_pp_mdl.fit(X_train, y_train, sample_weight=sample_weight)\n",
    "\n",
    "y_train_cb_pp_pred, y_test_cb_pp_prob, y_test_cb_pp_pred =\\\n",
    "                                        evaluate_class_mdl(cb_pp_mdl, X_train, X_test, y_train, y_test,\\\n",
    "                                                           plot=False)"
   ]
  },
  {
   "cell_type": "markdown",
   "id": "9ed891e6-3515-4157-8f82-889b45b05da6",
   "metadata": {},
   "source": [
    "Combining post-processing with pre-processing, yields some good results:"
   ]
  },
  {
   "cell_type": "code",
   "execution_count": 43,
   "id": "452eadd4-4817-42bc-afac-c28ba50f57fe",
   "metadata": {},
   "outputs": [
    {
     "name": "stdout",
     "output_type": "stream",
     "text": [
      "Statistical Parity Difference (SPD):\t\t\t-0.1123\n",
      "Disparate Impact (DI):\t\t\t\t\t0.4743\n"
     ]
    }
   ],
   "source": [
    "print('Statistical Parity Difference (SPD):\\t\\t\\t%.4f' %\\\n",
    "      statistical_parity_difference(y_test, y_test_cb_pp_pred, prot_attr='sex'))\n",
    "print('Disparate Impact (DI):\\t\\t\\t\\t\\t%.4f' %\\\n",
    "      disparate_impact_ratio(y_test, y_test_cb_pp_pred, prot_attr='sex'))"
   ]
  },
  {
   "cell_type": "markdown",
   "id": "3909ef48-e961-4626-8af7-36186ecc73f8",
   "metadata": {},
   "source": [
    "This is specially visible with the confusion matrices:"
   ]
  },
  {
   "cell_type": "code",
   "execution_count": 44,
   "id": "a7bc53e7-1ac0-4e13-9077-5eff7d0e2853",
   "metadata": {
    "tags": []
   },
   "outputs": [
    {
     "data": {
      "image/png": "[encoded data removed]",
      "text/plain": [
       "<Figure size 864x360 with 4 Axes>"
      ]
     },
     "metadata": {},
     "output_type": "display_data"
    },
    {
     "name": "stdout",
     "output_type": "stream",
     "text": [
      "\tMale FNR:\t42.0%\n",
      "\tFemale FNR:\t\t39.0%\n",
      "\tRatio FNRs:\t\t1.07 x\n"
     ]
    }
   ],
   "source": [
    "rf_fnr = compare_confusion_matrices(y_test[is_male], y_test_cb_pp_pred[is_male],\\\n",
    "                                    y_test[~is_male], y_test_cb_pp_pred[~is_male], 'Male', 'Female',\\\n",
    "                                    compare_fpr=False)"
   ]
  },
  {
   "cell_type": "markdown",
   "id": "c51e34d7-a277-4b4f-99bd-18012b044f9f",
   "metadata": {},
   "source": [
    "### 5.4) Before & After"
   ]
  },
  {
   "cell_type": "markdown",
   "id": "98ddec88-f680-4585-9216-8a0beead37eb",
   "metadata": {},
   "source": [
    "#### 5.4.1) Before"
   ]
  },
  {
   "cell_type": "code",
   "execution_count": 56,
   "id": "a68d5ce7-f368-4b72-b891-cfd5dc2fd8b8",
   "metadata": {},
   "outputs": [
    {
     "data": {
      "image/png": "[encoded data removed]",
      "text/plain": [
       "<Figure size 432x288 with 1 Axes>"
      ]
     },
     "metadata": {},
     "output_type": "display_data"
    },
    {
     "data": {
      "image/png": "[encoded data removed]",
      "text/plain": [
       "<Figure size 432x288 with 1 Axes>"
      ]
     },
     "metadata": {},
     "output_type": "display_data"
    }
   ],
   "source": [
    "protected_cols_l = [\"race\", \"sex\"]\n",
    "for p in protected_cols_l:\n",
    "    _ = xai.pr_plot(\n",
    "        y_test.tolist(), \n",
    "        y_test_cb_pred, \n",
    "        df=test_df.reset_index(drop=True), \n",
    "        cross_cols=[p],\n",
    "        categorical_cols=protected_cols_l)"
   ]
  },
  {
   "cell_type": "markdown",
   "id": "ef24d989-17b0-46af-bd01-c487cc161ce7",
   "metadata": {},
   "source": [
    "#### 5.4.2) After"
   ]
  },
  {
   "cell_type": "code",
   "execution_count": 55,
   "id": "2bf8e5d8-e379-40c1-9d2c-d8d15dbaa1e0",
   "metadata": {
    "tags": []
   },
   "outputs": [
    {
     "data": {
      "image/png": "[encoded data removed]",
      "text/plain": [
       "<Figure size 432x288 with 1 Axes>"
      ]
     },
     "metadata": {},
     "output_type": "display_data"
    },
    {
     "data": {
      "image/png": "[encoded data removed]",
      "text/plain": [
       "<Figure size 432x288 with 1 Axes>"
      ]
     },
     "metadata": {},
     "output_type": "display_data"
    }
   ],
   "source": [
    "protected_cols_l = [\"race\", \"sex\"]\n",
    "for p in protected_cols_l:\n",
    "    _ = xai.pr_plot(\n",
    "        y_test.tolist(), \n",
    "        y_test_cb_pp_pred, \n",
    "        df=test_df.reset_index(drop=True), \n",
    "        cross_cols=[p],\n",
    "        categorical_cols=protected_cols_l)"
   ]
  },
  {
   "cell_type": "markdown",
   "id": "f3d9b1d9-16de-49e5-b36b-528b43186382",
   "metadata": {},
   "source": []
  }
 ],
 "metadata": {
  "kernelspec": {
   "display_name": "Python 3 (ipykernel)",
   "language": "python",
   "name": "python3"
  },
  "language_info": {
   "codemirror_mode": {
    "name": "ipython",
    "version": 3
   },
   "file_extension": ".py",
   "mimetype": "text/x-python",
   "name": "python",
   "nbconvert_exporter": "python",
   "pygments_lexer": "ipython3",
   "version": "3.8.5"
  }
 },
 "nbformat": 4,
 "nbformat_minor": 5
}
